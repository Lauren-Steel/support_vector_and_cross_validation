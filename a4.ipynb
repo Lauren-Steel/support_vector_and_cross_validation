{
 "cells": [
  {
   "cell_type": "markdown",
   "metadata": {},
   "source": [
    "## CISC /CMPE 251 Assignment 4 Part 1: Theoretical \n",
    "Lauren Steel - 20218337 \n",
    "\n",
    "November 25 2024 \n",
    "\n",
    "Q3: Determining Decision Boundaries in SVC"
   ]
  },
  {
   "cell_type": "code",
   "execution_count": null,
   "metadata": {},
   "outputs": [
    {
     "name": "stdout",
     "output_type": "stream",
     "text": [
      "Weights (w): [-5.99800206 -3.99900103]\n",
      "Bias (b): 20.99367319690593\n",
      "Decision boundary equation: -6.00x1 + -4.00x2 + (20.99) = 0\n"
     ]
    }
   ],
   "source": [
    "import numpy as np\n",
    "from sklearn.svm import SVC\n",
    "\n",
    "# dataset\n",
    "X = np.array([[2, 2], [1, 1], [1, 4], [3, 1]])  \n",
    "y = np.array([1, 1, -1, -1])\n",
    "\n",
    "# train linear model\n",
    "svm = SVC(kernel='linear', C=1e10)  \n",
    "svm.fit(X, y)\n",
    "\n",
    "# extract weights and bias\n",
    "w = svm.coef_[0]  \n",
    "b = svm.intercept_[0] \n",
    "\n",
    "# print results \n",
    "print(\"Weights (w):\", w)\n",
    "print(\"Bias (b):\", b)\n",
    "print(f\"Decision boundary equation: {w[0]:.2f}x1 + {w[1]:.2f}x2 + ({b:.2f}) = 0\")\n"
   ]
  },
  {
   "cell_type": "code",
   "execution_count": null,
   "metadata": {},
   "outputs": [
    {
     "name": "stdout",
     "output_type": "stream",
     "text": [
      "\n",
      "Verification Results with Tolerance:\n",
      "Point 1 ([2 2]): Margin value = 0.999667, Does not satisfy the margin condition.\n",
      "Point 2 ([1 1]): Margin value = 10.996670, Satisfies the margin condition.\n",
      "Point 3 ([1 4]): Margin value = 1.000333, Satisfies the margin condition.\n",
      "Point 4 ([3 1]): Margin value = 0.999334, Does not satisfy the margin condition.\n"
     ]
    }
   ],
   "source": [
    "import numpy as np\n",
    "from sklearn.svm import SVC\n",
    "\n",
    "# dataset\n",
    "X = np.array([[2, 2], [1, 1], [1, 4], [3, 1]])  \n",
    "y = np.array([1, 1, -1, -1])  \n",
    "\n",
    "# train linear model\n",
    "svm = SVC(kernel='linear', C=1e10)  \n",
    "svm.fit(X, y)\n",
    "\n",
    "# extract weights and bias\n",
    "w = svm.coef_[0] \n",
    "b = svm.intercept_[0]  \n",
    "\n",
    "# verify the margin condition \n",
    "margin_values = y * (np.dot(X, w) + b)\n",
    "\n",
    "tolerance = 1e-6  \n",
    "# print verification results \n",
    "print(\"\\nVerification Results with Tolerance:\")\n",
    "for i, (point, margin) in enumerate(zip(X, margin_values)):\n",
    "    satisfies = margin >= (1 - tolerance) \n",
    "    print(f\"Point {i+1} ({point}): Margin value = {margin:.6f}, \"\n",
    "          f\"{'Satisfies' if satisfies else 'Does not satisfy'} the margin condition.\")\n"
   ]
  },
  {
   "cell_type": "markdown",
   "metadata": {},
   "source": [
    "## CISC /CMPE 251 Assignment 4 Part 2: Practical"
   ]
  },
  {
   "cell_type": "markdown",
   "metadata": {},
   "source": [
    "## Part 1: Support vector regressor using scikit-learn\n",
    "- Import the correct packages and functions\n",
    "- Split the data into 75% training data and 25% testing data. Set random state=123\n",
    "- Initialize and fit a linear support vector regressor with epsilon=0.2\n",
    "- Initialize and fit a polynomial support vector regressor with epsilon=0.2, C=0.5, and gamma=0.7\n",
    "- Initialize and fit an RBF support vector regressor with epsilon=0.2, C=0.5, and gamma=0.7\n",
    "- Print the coefficient of determination of prediction for each support vector regressor using the score() method"
   ]
  },
  {
   "cell_type": "code",
   "execution_count": 2,
   "metadata": {},
   "outputs": [
    {
     "name": "stdout",
     "output_type": "stream",
     "text": [
      "Linear model: 0.6806\n",
      "Polynomial model: 0.3710\n",
      "RBF model: 0.7083\n"
     ]
    }
   ],
   "source": [
    "import pandas as pd\n",
    "from sklearn.model_selection import train_test_split\n",
    "from sklearn.svm import SVR\n",
    "from sklearn.preprocessing import StandardScaler\n",
    "\n",
    "# dataset\n",
    "file_path = \"mpg.csv\"  # Update the path if necessary\n",
    "data = pd.read_csv(file_path)\n",
    "\n",
    "# drop missing \n",
    "data = data.dropna()\n",
    "\n",
    "# select the weight feature and mpg as the target\n",
    "X = data[['weight']].values\n",
    "y = data['mpg'].values\n",
    "\n",
    "# scale\n",
    "scaler_X = StandardScaler()\n",
    "scaler_y = StandardScaler()\n",
    "X = scaler_X.fit_transform(X)\n",
    "y = scaler_y.fit_transform(y.reshape(-1, 1)).ravel()\n",
    "\n",
    "# split data \n",
    "X_train, X_test, y_train, y_test = train_test_split(X, y, test_size=0.25, random_state=123)\n",
    "\n",
    "# train linear model\n",
    "linear_svr = SVR(kernel='linear', epsilon=0.2)\n",
    "linear_svr.fit(X_train, y_train)\n",
    "linear_score = linear_svr.score(X_test, y_test)\n",
    "\n",
    "# train polynomial model\n",
    "poly_svr = SVR(kernel='poly', epsilon=0.2, C=0.5, gamma=0.7)\n",
    "poly_svr.fit(X_train, y_train)\n",
    "poly_score = poly_svr.score(X_test, y_test)\n",
    "\n",
    "# train RBF model\n",
    "rbf_svr = SVR(kernel='rbf', epsilon=0.2, C=0.5, gamma=0.7)\n",
    "rbf_svr.fit(X_train, y_train)\n",
    "rbf_score = rbf_svr.score(X_test, y_test)\n",
    "\n",
    "# print results\n",
    "print(f\"Linear model: {linear_score:.4f}\")\n",
    "print(f\"Polynomial model: {poly_score:.4f}\")\n",
    "print(f\"RBF model: {rbf_score:.4f}\")\n"
   ]
  },
  {
   "cell_type": "markdown",
   "metadata": {},
   "source": [
    "## Part 2: Cross-validation for selection hyperparameters\n",
    "\n",
    "- Create dataframe X with the features carat and depth\n",
    "- Create dataframe y with the feature price\n",
    "- Split the data into 80% training and 20% testing sets, with random state = 42\n",
    "- Initialize an elastic net model with random state = 0\n",
    "- Create a tuning grid with the hyperparameter name alpha and the values 0.1, 0.5, 0.9, 1.0\n",
    "- Use GridSearchCV() with cv=10 to initialize and fit a tuning grid to the training data\n",
    "- Print the mean testing score for each fold and the best parameter value"
   ]
  },
  {
   "cell_type": "code",
   "execution_count": null,
   "metadata": {},
   "outputs": [
    {
     "name": "stdout",
     "output_type": "stream",
     "text": [
      "Fitting 10 folds for each of 4 candidates, totalling 40 fits\n",
      "Mean testing scores: [0.82224591 0.61369963 0.47103892 0.444506  ]\n",
      "Best estimator: ElasticNet(alpha=0.1, random_state=0)\n"
     ]
    }
   ],
   "source": [
    "import pandas as pd\n",
    "from sklearn.model_selection import train_test_split, GridSearchCV\n",
    "from sklearn.linear_model import ElasticNet\n",
    "from sklearn.metrics import make_scorer, r2_score\n",
    "\n",
    "# dataset\n",
    "file_path = \"diamonds.csv\"\n",
    "diamonds_data = pd.read_csv(file_path)\n",
    "\n",
    "# implement dataframe X and y\n",
    "X = diamonds_data[['carat', 'depth']]\n",
    "y = diamonds_data['price']\n",
    "\n",
    "# split data \n",
    "X_train, X_test, y_train, y_test = train_test_split(X, y, test_size=0.2, random_state=42)\n",
    "\n",
    "# initialize ElasticNet model \n",
    "elastic_net_model = ElasticNet(random_state=0)\n",
    "\n",
    "# implement tuning grid \n",
    "param_grid = {'alpha': [0.1, 0.5, 0.9, 1.0]}\n",
    "\n",
    "# gridSearchCV to fit the model \n",
    "grid_search = GridSearchCV(estimator=elastic_net_model, param_grid=param_grid, scoring=make_scorer(r2_score), cv=10, verbose=1)\n",
    "grid_search.fit(X_train, y_train)\n",
    "\n",
    "# extract mean testing scores & best parameter value\n",
    "mean_test_scores = grid_search.cv_results_['mean_test_score']\n",
    "best_estimator = grid_search.best_estimator_\n",
    "\n",
    "# print mean testing scores & best parameter value\n",
    "print(f\"Mean testing scores: {mean_test_scores}\")\n",
    "print(f\"Best estimator: {best_estimator}\")\n"
   ]
  },
  {
   "cell_type": "markdown",
   "metadata": {},
   "source": [
    "## Part 3: Classification trees using scikit-learn\n",
    "\n",
    "- Create a dataframe X containing the features cylinders, weight, and mpg\n",
    "- Create a dataframe y containing the feature origin\n",
    "- Initialize and fit a classification tree with max leaf nodes=6 to the training data\n",
    "- Use the classification tree to make predictions for the test data\n",
    "- Create a confusion matrix"
   ]
  },
  {
   "cell_type": "code",
   "execution_count": 6,
   "metadata": {},
   "outputs": [
    {
     "name": "stdout",
     "output_type": "stream",
     "text": [
      "|--- feature_0 <= 134.50\n",
      "|   |--- feature_0 <= 97.25\n",
      "|   |   |--- class: japan\n",
      "|   |--- feature_0 >  97.25\n",
      "|   |   |--- feature_1 <= 2757.50\n",
      "|   |   |   |--- class: usa\n",
      "|   |   |--- feature_1 >  2757.50\n",
      "|   |   |   |--- class: europe\n",
      "|--- feature_0 >  134.50\n",
      "|   |--- feature_0 <= 190.50\n",
      "|   |   |--- feature_1 <= 3097.50\n",
      "|   |   |   |--- class: usa\n",
      "|   |   |--- feature_1 >  3097.50\n",
      "|   |   |   |--- class: europe\n",
      "|   |--- feature_0 >  190.50\n",
      "|   |   |--- class: usa\n",
      "\n"
     ]
    },
    {
     "data": {
      "image/png": "[encoded data removed]",
      "text/plain": [
       "<Figure size 640x480 with 2 Axes>"
      ]
     },
     "metadata": {},
     "output_type": "display_data"
    }
   ],
   "source": [
    "\n",
    "import pandas as pd\n",
    "from sklearn.model_selection import train_test_split\n",
    "from sklearn.tree import DecisionTreeClassifier, export_text\n",
    "from sklearn.metrics import confusion_matrix, ConfusionMatrixDisplay\n",
    "import matplotlib.pyplot as plt\n",
    "\n",
    "# dataset\n",
    "file_path = \"mpg.csv\"  \n",
    "mpg_data = pd.read_csv(file_path)\n",
    "\n",
    "# implement dataframe X and y\n",
    "X = mpg_data[['displacement', 'weight', 'mpg']]\n",
    "y = mpg_data['origin']\n",
    "\n",
    "# rename features \n",
    "X.columns = [f\"feature_{i}\" for i in range(X.shape[1])]\n",
    "\n",
    "# split data \n",
    "X_train, X_test, y_train, y_test = train_test_split(X, y, test_size=0.2, random_state=42)\n",
    "\n",
    "# I=initialize classification tree \n",
    "clf = DecisionTreeClassifier(max_leaf_nodes=6, random_state=42)\n",
    "\n",
    "# Fit classification tree to the training data\n",
    "clf.fit(X_train, y_train)\n",
    "\n",
    "# print tree \n",
    "tree_rules = export_text(clf, feature_names=list(X.columns))\n",
    "print(tree_rules)\n",
    "\n",
    "# prediction tests\n",
    "y_pred = clf.predict(X_test)\n",
    "\n",
    "# display confusion matrix\n",
    "conf_matrix = confusion_matrix(y_test, y_pred)\n",
    "disp = ConfusionMatrixDisplay(conf_matrix, display_labels=clf.classes_)\n",
    "disp.plot()\n",
    "plt.show()\n",
    "\n"
   ]
  }
 ],
 "metadata": {
  "kernelspec": {
   "display_name": "CMPE251",
   "language": "python",
   "name": "python3"
  },
  "language_info": {
   "codemirror_mode": {
    "name": "ipython",
    "version": 3
   },
   "file_extension": ".py",
   "mimetype": "text/x-python",
   "name": "python",
   "nbconvert_exporter": "python",
   "pygments_lexer": "ipython3",
   "version": "3.9.19"
  }
 },
 "nbformat": 4,
 "nbformat_minor": 2
}
